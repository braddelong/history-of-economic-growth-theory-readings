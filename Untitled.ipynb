{
 "cells": [
  {
   "cell_type": "code",
   "execution_count": 3,
   "metadata": {},
   "outputs": [
    {
     "name": "stdout",
     "output_type": "stream",
     "text": [
      " Year Population\n",
      "-6000 7\n",
      "-3000 15.00001473583532\n",
      "-1000 62.90730834372957\n",
      "-500 309.10773578362375\n",
      "-400 1365.747508114767\n",
      "-359 2.3248180008488873e+232\n"
     ]
    }
   ],
   "source": [
    "k=.0000254033\n",
    "P=[7]\n",
    "t=[-6000]\n",
    "tmax = 5641\n",
    "\n",
    "for i in range(tmax):\n",
    "    P = P + [P[i]+k*(P[i]**2)]\n",
    "    t = t + [t[i]+1]\n",
    "\n",
    "print(\" Year Population\")\n",
    "print(t[0],P[0])\n",
    "print(t[3000],P[3000])\n",
    "print(t[5000],P[5000])\n",
    "print(t[5500],P[5500])\n",
    "print(t[5600],P[5600])\n",
    "print(t[tmax],P[tmax])\n"
   ]
  },
  {
   "cell_type": "code",
   "execution_count": null,
   "metadata": {},
   "outputs": [],
   "source": [
    "k=.0000233474\n",
    "\n",
    "P=[15]\n",
    "t=[-3000]\n",
    "tmax = 2872\n",
    "\n",
    "for i in range(tmax):\n",
    "    P = P + [P[i]+k*(P[i]**2)]\n",
    "    t = t + [t[i]+1]\n",
    "\n",
    "print(\" Year Population\")\n",
    "print(t[0],P[0])\n",
    "print(t[2000],P[2000])\n",
    "print(t[tmax],P[tmax])"
   ]
  },
  {
   "cell_type": "code",
   "execution_count": 1,
   "metadata": {},
   "outputs": [
    {
     "name": "stdout",
     "output_type": "stream",
     "text": [
      " Year Population\n",
      "-3000 15\n",
      "-1000 50.000082974114136\n",
      "-900 56.59911954668957\n",
      "-800 65.20315568328775\n",
      "-700 76.88885116267048\n",
      "-600 93.67109718765784\n",
      "-500 119.80853971867678\n",
      "-400 166.12595454744238\n",
      "-300 270.5519609832862\n",
      "-200 722.4299912560213\n",
      "-128 1.103430201371953e+206\n"
     ]
    }
   ],
   "source": [
    "k=.0000233474\n",
    "\n",
    "P=[15]\n",
    "t=[-3000]\n",
    "tmax = 2872\n",
    "\n",
    "for i in range(tmax):\n",
    "    P = P + [P[i]+k*(P[i]**2)]\n",
    "    t = t + [t[i]+1]\n",
    "\n",
    "print(\" Year Population\")\n",
    "print(t[0],P[0])\n",
    "print(t[2000],P[2000])\n",
    "print(t[2100],P[2100])\n",
    "print(t[2200],P[2200])\n",
    "print(t[2300],P[2300])\n",
    "print(t[2400],P[2400])\n",
    "print(t[2500],P[2500])\n",
    "print(t[2600],P[2600])\n",
    "print(t[2700],P[2700])\n",
    "print(t[2800],P[2800])\n",
    "print(t[tmax],P[tmax])"
   ]
  },
  {
   "cell_type": "code",
   "execution_count": 6,
   "metadata": {},
   "outputs": [
    {
     "name": "stdout",
     "output_type": "stream",
     "text": [
      " Year Population\n",
      "-3000 15\n",
      "-1000 49.853973019234566\n",
      "0 170.1565460011882\n",
      "200 255.10252243121988\n",
      "400 434.6169944671038\n",
      "500 614.1832095752687\n",
      "600 948.5259583780045\n",
      "700 1702.857028395262\n",
      "800 4180.175369836278\n",
      "960 1.4699799430160859e+218\n"
     ]
    }
   ],
   "source": [
    "λ=1.59\n",
    "k=.0000871\n",
    "\n",
    "P=[15]\n",
    "t=[-3000]\n",
    "tmax = 3960\n",
    "\n",
    "for i in range(tmax):\n",
    "    P = P + [P[i]+k*(P[i]**λ)]\n",
    "    t = t + [t[i]+1]\n",
    "\n",
    "print(\" Year Population\")\n",
    "print(t[0],P[0])\n",
    "print(t[2000],P[2000])\n",
    "print(t[3000],P[3000])\n",
    "print(t[3200],P[3200])\n",
    "print(t[3400],P[3400])\n",
    "print(t[3500],P[3500])\n",
    "print(t[3600],P[3600])\n",
    "print(t[3700],P[3700])\n",
    "print(t[3800],P[3800])\n",
    "print(t[tmax],P[tmax])"
   ]
  },
  {
   "cell_type": "code",
   "execution_count": null,
   "metadata": {},
   "outputs": [],
   "source": [
    "run = 10\n",
    "\n",
    "print(\" Year Population\")\n",
    "\n",
    "for i in range(run):\n",
    "    print(t[100*i+3000], P[100*i+3000])\n",
    "    "
   ]
  },
  {
   "cell_type": "code",
   "execution_count": null,
   "metadata": {},
   "outputs": [],
   "source": []
  },
  {
   "cell_type": "code",
   "execution_count": null,
   "metadata": {},
   "outputs": [],
   "source": []
  }
 ],
 "metadata": {
  "kernelspec": {
   "display_name": "Python 3",
   "language": "python",
   "name": "python3"
  },
  "language_info": {
   "codemirror_mode": {
    "name": "ipython",
    "version": 3
   },
   "file_extension": ".py",
   "mimetype": "text/x-python",
   "name": "python",
   "nbconvert_exporter": "python",
   "pygments_lexer": "ipython3",
   "version": "3.7.7"
  }
 },
 "nbformat": 4,
 "nbformat_minor": 4
}
